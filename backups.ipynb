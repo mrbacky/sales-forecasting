{
 "cells": [
  {
   "cell_type": "code",
   "execution_count": null,
   "metadata": {
    "collapsed": true
   },
   "outputs": [],
   "source": [
    "# To forecast sales seven days later of the order date, let us create a new dataframe with only the target column i.e,\n",
    "# the 'Sales' column and 'Order Date' as the index\n",
    "#sales = pd.DataFrame(data['Sales'])\n",
    "\n",
    "#print(sales)\n",
    "\n",
    "#Plotting the data to understand the sales distribution from the year 2015-2018\n",
    "#sales.plot();\n",
    "\n",
    "\n",
    "# # Checkting for Stationarity\n",
    "#new_data =  pd.DataFrame(new_data['Sales'].resample('D').mean())\n",
    "#new_data = new_data.interpolate(method='linear') #The interpolate() function is used to interpolate values according to\n",
    "#different methods. It ignore the index and treats the values as equally spaced.\n",
    "\n",
    "\n",
    "# Method 1\n",
    "# To check for stationarity by comparing the change in mean and variance over time, let us split the data into train, test and validate.\n",
    "#train, test, validate = np.split(new_data['Sales'].sample(frac=1), [int(.6*len(new_data['Sales'])),int(.8*len(new_data['Sales']))])\n",
    "# sample frac 1 - shuffling data\n",
    "\n",
    "\n",
    "# Split the dataset randomly in training set (80%) and test set (20%). Use a fixed random seed (42).\n",
    "# As a rule of thumb, pick 20% for the test set, unless the dataset is very large.\n",
    "#from sklearn.model_selection import train_test_split\n",
    "\n",
    "#train_set, test_set = train_test_split(sales, test_size=0.2, random_state=42)\n",
    "#train_set, test_set = train_test_split(data, test_size=0.2, random_state=42)\n",
    "\n",
    "\n",
    "\n",
    "#params = {'max_depth': [40, 70],'n_estimators': [600, 1000]}\n",
    "#grid_search_cv = GridSearchCV(RandomForestRegressor(random_state=42), params, n_jobs=-1, cv=5)\n",
    "\n",
    "# Show the best estimator\n",
    "#grid_search_cv.best_estimator_\n",
    "# Evaluate\n",
    "from sklearn.metrics import accuracy_score\n",
    "\n",
    "#y_pred = grid_search_cv.predict(x_test)\n",
    "#accuracy_score(y_test, y_pred)\n"
   ]
  }
 ],
 "metadata": {
  "kernelspec": {
   "display_name": "Python 3",
   "language": "python",
   "name": "python3"
  },
  "language_info": {
   "codemirror_mode": {
    "name": "ipython",
    "version": 2
   },
   "file_extension": ".py",
   "mimetype": "text/x-python",
   "name": "python",
   "nbconvert_exporter": "python",
   "pygments_lexer": "ipython2",
   "version": "2.7.6"
  }
 },
 "nbformat": 4,
 "nbformat_minor": 0
}
